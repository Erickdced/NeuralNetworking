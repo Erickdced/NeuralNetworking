{
 "cells": [
  {
   "cell_type": "code",
   "execution_count": 1,
   "metadata": {},
   "outputs": [],
   "source": [
    "import tensorflow as tf\n",
    "import numpy as np\n",
    "import matplotlib.pyplot as plt\n",
    "import math"
   ]
  },
  {
   "cell_type": "code",
   "execution_count": 2,
   "metadata": {},
   "outputs": [],
   "source": [
    "# Additional data for coefi and result\n",
    "additional_coefi = np.array([\n",
    "    [3, -9, 12], [2, -8, 15], [1, -6, 8], [4, -10, 20], [5, -12, 25],\n",
    "    [2, -4, 4], [3, -7, 10], [1, -3, 3], [2, -5, 6], [4, -8, 16]\n",
    "], dtype=float)\n",
    "\n",
    "additional_result = np.array([\n",
    "    [5, 3], [4, 2], [3, 1], [6, 4], [7, 5],\n",
    "    [2, 1], [4, 2], [1, 0.5], [3, 1.5], [5, 3]\n",
    "], dtype=float)\n",
    "coefi = np.array([[1, -5, 6], [1, -14, 49],[2, -7, 3], [-1, 7, -10], [1, -7, -18], [6, -5, 1], [4, -6, 2]], dtype=float)\n",
    "result = np.array([[3, 2], [7,7], [3, .5], [2,5], [9,-2], [.5, .33], [1, .5]], dtype=float)\n",
    "\n",
    "# Concatenate the additional data to the existing data\n",
    "coefi = np.concatenate((coefi, additional_coefi), axis=0)\n",
    "result = np.concatenate((result, additional_result), axis=0)\n",
    "\n"
   ]
  },
  {
   "cell_type": "code",
   "execution_count": 3,
   "metadata": {},
   "outputs": [
    {
     "name": "stderr",
     "output_type": "stream",
     "text": [
      "c:\\Users\\erick\\AppData\\Local\\Programs\\Python\\Python312\\Lib\\site-packages\\keras\\src\\layers\\core\\dense.py:87: UserWarning: Do not pass an `input_shape`/`input_dim` argument to a layer. When using Sequential models, prefer using an `Input(shape)` object as the first layer in the model instead.\n",
      "  super().__init__(activity_regularizer=activity_regularizer, **kwargs)\n"
     ]
    }
   ],
   "source": [
    "shadow1 = tf.keras.layers.Dense(units=5, input_shape=[3], activation='relu')\n",
    "shadow2 = tf.keras.layers.Dense(units=5, activation='relu')\n",
    "shadow3 = tf.keras.layers.Dense(units=5, activation='relu')\n",
    "shadow4 = tf.keras.layers.Dense(units=5, activation='relu')\n",
    "exit = tf.keras.layers.Dense(units=2, activation='linear')\n",
    "modelo = tf.keras.Sequential([shadow1, shadow2, shadow3, shadow4, exit])"
   ]
  },
  {
   "cell_type": "code",
   "execution_count": 4,
   "metadata": {},
   "outputs": [],
   "source": [
    "modelo.compile(\n",
    "    optimizer=tf.keras.optimizers.Adam(0.5),\n",
    "    loss = 'mean_squared_error'\n",
    ")"
   ]
  },
  {
   "cell_type": "code",
   "execution_count": 5,
   "metadata": {},
   "outputs": [
    {
     "name": "stdout",
     "output_type": "stream",
     "text": [
      "Comenzando entrenamiento...\n",
      "Modelo entrenado!\n"
     ]
    }
   ],
   "source": [
    "print(\"Comenzando entrenamiento...\")\n",
    "historial = modelo.fit(coefi, result, epochs=2000, verbose=False)\n",
    "print(\"Modelo entrenado!\")"
   ]
  },
  {
   "cell_type": "code",
   "execution_count": 6,
   "metadata": {},
   "outputs": [
    {
     "data": {
      "image/png": "[encoded data removed]",
      "text/plain": [
       "<Figure size 640x480 with 1 Axes>"
      ]
     },
     "metadata": {},
     "output_type": "display_data"
    }
   ],
   "source": [
    "plt.xlabel(\"# Epoca\")\n",
    "plt.ylabel(\"Magnitud de perdida\")\n",
    "plt.plot(historial.history[\"loss\"])\n",
    "plt.show()"
   ]
  },
  {
   "cell_type": "code",
   "execution_count": 7,
   "metadata": {},
   "outputs": [
    {
     "name": "stdout",
     "output_type": "stream",
     "text": [
      "Predicciones\n",
      "[array([[-3.165485 , -1.974164 ,  2.746363 , -3.799212 , -3.8495307],\n",
      "       [ 3.5550048,  2.0134318, -3.037995 ,  4.0002627,  3.8999624],\n",
      "       [-2.502202 ,  1.4213216,  3.4039452, -4.6207576,  1.6849627]],\n",
      "      dtype=float32), array([ 3.5175862, -1.6838416,  1.8231492,  1.2341843, -3.651614 ],\n",
      "      dtype=float32)]\n",
      "[array([[-3.7075028 , -3.001144  , -0.25068444, -2.5786052 , -3.5292714 ],\n",
      "       [-2.9472222 , -1.8995135 , -2.3804688 , -3.7383814 , -2.1775289 ],\n",
      "       [-2.4966903 , -3.3582282 , -3.130036  , -1.5970944 , -0.761968  ],\n",
      "       [-2.5030358 , -2.7680044 , -0.44293156, -3.0712414 , -0.7466407 ],\n",
      "       [-2.4436724 , -2.3412416 , -3.1103058 , -2.2851567 , -3.255531  ]],\n",
      "      dtype=float32), array([-3.0027106, -2.3024483, -3.061044 , -2.931628 , -3.0733616],\n",
      "      dtype=float32)]\n",
      "[array([[ 2.4414117 ,  2.7586083 ],\n",
      "       [ 1.4573817 ,  0.27206388],\n",
      "       [ 0.6666342 , -0.75852394],\n",
      "       [ 2.6990423 ,  3.1790493 ],\n",
      "       [-0.87160623, -2.1049438 ]], dtype=float32), array([1.4653519, 1.691344 ], dtype=float32)]\n"
     ]
    }
   ],
   "source": [
    "print(\"Predicciones\")\n",
    "print(shadow1.get_weights())\n",
    "print(shadow2.get_weights())\n",
    "print(exit.get_weights())"
   ]
  },
  {
   "cell_type": "code",
   "execution_count": 8,
   "metadata": {},
   "outputs": [
    {
     "name": "stdout",
     "output_type": "stream",
     "text": [
      "Hagamos una predicción\n",
      "\u001b[1m1/1\u001b[0m \u001b[32m━━━━━━━━━━━━━━━━━━━━\u001b[0m\u001b[37m\u001b[0m \u001b[1m0s\u001b[0m 69ms/step\n",
      "Resultado de la predicción: [[3.8529425 2.1370592]]\n"
     ]
    }
   ],
   "source": [
    "print(\"Hagamos una predicción\")\n",
    "resultado = modelo.predict(np.array([[1, 3, 2]], dtype=float))\n",
    "print(\"Resultado de la predicción:\", resultado)"
   ]
  }
 ],
 "metadata": {
  "kernelspec": {
   "display_name": "Python 3",
   "language": "python",
   "name": "python3"
  },
  "language_info": {
   "codemirror_mode": {
    "name": "ipython",
    "version": 3
   },
   "file_extension": ".py",
   "mimetype": "text/x-python",
   "name": "python",
   "nbconvert_exporter": "python",
   "pygments_lexer": "ipython3",
   "version": "3.12.3"
  }
 },
 "nbformat": 4,
 "nbformat_minor": 2
}
