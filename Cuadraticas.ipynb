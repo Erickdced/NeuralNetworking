{
 "cells": [
  {
   "cell_type": "code",
   "execution_count": 1,
   "metadata": {},
   "outputs": [],
   "source": [
    "import tensorflow as tf\n",
    "import numpy as np\n",
    "import matplotlib.pyplot as plt\n",
    "import math"
   ]
  },
  {
   "cell_type": "code",
   "execution_count": 2,
   "metadata": {},
   "outputs": [],
   "source": [
    "# Additional data for coefi and result\n",
    "coefi = np.loadtxt('c:/Users/erick/OneDrive/Escritorio/projects/NeuralNetworking/coefi.txt', skiprows=0)\n",
    "result = np.loadtxt('c:/Users/erick/OneDrive/Escritorio/projects/NeuralNetworking/resul.txt', skiprows=0)\n"
   ]
  },
  {
   "cell_type": "code",
   "execution_count": 3,
   "metadata": {},
   "outputs": [
    {
     "name": "stderr",
     "output_type": "stream",
     "text": [
      "c:\\Users\\erick\\AppData\\Local\\Programs\\Python\\Python312\\Lib\\site-packages\\keras\\src\\layers\\core\\dense.py:87: UserWarning: Do not pass an `input_shape`/`input_dim` argument to a layer. When using Sequential models, prefer using an `Input(shape)` object as the first layer in the model instead.\n",
      "  super().__init__(activity_regularizer=activity_regularizer, **kwargs)\n"
     ]
    }
   ],
   "source": [
    "shadow1 = tf.keras.layers.Dense(units=5, input_shape=[3], activation='relu')\n",
    "shadow2 = tf.keras.layers.Dense(units=5, activation='relu')\n",
    "shadow3 = tf.keras.layers.Dense(units=5, activation='relu')\n",
    "shadow4 = tf.keras.layers.Dense(units=5, activation='relu')\n",
    "exit = tf.keras.layers.Dense(units=2, activation='linear')\n",
    "modelo = tf.keras.Sequential([shadow1, shadow2, shadow3, shadow4, exit])"
   ]
  },
  {
   "cell_type": "code",
   "execution_count": 4,
   "metadata": {},
   "outputs": [],
   "source": [
    "modelo.compile(\n",
    "    optimizer=tf.keras.optimizers.Adam(0.5),\n",
    "    loss = 'mean_squared_error'\n",
    ")"
   ]
  },
  {
   "cell_type": "code",
   "execution_count": 5,
   "metadata": {},
   "outputs": [
    {
     "name": "stdout",
     "output_type": "stream",
     "text": [
      "Comenzando entrenamiento...\n",
      "Modelo entrenado!\n"
     ]
    }
   ],
   "source": [
    "print(\"Comenzando entrenamiento...\")\n",
    "historial = modelo.fit(coefi, result, epochs=2000, verbose=False)\n",
    "print(\"Modelo entrenado!\")"
   ]
  },
  {
   "cell_type": "code",
   "execution_count": 6,
   "metadata": {},
   "outputs": [
    {
     "data": {
      "image/png": "[encoded data removed]",
      "text/plain": [
       "<Figure size 640x480 with 1 Axes>"
      ]
     },
     "metadata": {},
     "output_type": "display_data"
    }
   ],
   "source": [
    "plt.xlabel(\"# Epoca\")\n",
    "plt.ylabel(\"Magnitud de perdida\")\n",
    "plt.plot(historial.history[\"loss\"])\n",
    "plt.show()"
   ]
  },
  {
   "cell_type": "code",
   "execution_count": 7,
   "metadata": {},
   "outputs": [
    {
     "name": "stdout",
     "output_type": "stream",
     "text": [
      "Predicciones\n",
      "[array([[ 2.5419085 ,  4.046709  , -3.3903198 , -3.1438289 ,  0.9457453 ],\n",
      "       [-3.82804   , -3.1512651 ,  2.5344055 , -0.2190902 , -1.3646394 ],\n",
      "       [-3.6887178 ,  4.7231793 , -2.634966  ,  2.6198199 ,  0.97376716]],\n",
      "      dtype=float32), array([ 3.005057  ,  4.1041026 , -3.0027044 , -2.5173845 ,  0.68378395],\n",
      "      dtype=float32)]\n",
      "[array([[-0.3853077 , -2.8181334 ,  3.3066533 ,  3.5759785 , -2.726523  ],\n",
      "       [-0.74866784, -3.099706  , -3.598786  , -2.4737399 , -3.2785401 ],\n",
      "       [-0.1932255 , -0.29720733, -2.242249  , -3.0829039 , -0.2321555 ],\n",
      "       [ 0.21543252, -3.4239907 ,  2.3976283 ,  2.4228816 , -2.3391347 ],\n",
      "       [-0.03012121, -2.1517413 , -3.4981575 , -2.8890486 , -1.7321855 ]],\n",
      "      dtype=float32), array([ 0.       , -3.0068738, -3.0026972,  3.002665 , -3.1978712],\n",
      "      dtype=float32)]\n",
      "[array([[ 2.2437954,  2.2875955],\n",
      "       [ 3.1895425,  2.2585177],\n",
      "       [ 3.4199958,  2.3080337],\n",
      "       [ 3.3069386,  2.7337933],\n",
      "       [-2.5342963,  2.1545534]], dtype=float32), array([ 1.7333328, -1.933333 ], dtype=float32)]\n"
     ]
    }
   ],
   "source": [
    "print(\"Predicciones\")\n",
    "print(shadow1.get_weights())\n",
    "print(shadow2.get_weights())\n",
    "print(exit.get_weights())"
   ]
  },
  {
   "cell_type": "code",
   "execution_count": 8,
   "metadata": {},
   "outputs": [
    {
     "name": "stdout",
     "output_type": "stream",
     "text": [
      "Hagamos una predicción\n",
      "\u001b[1m1/1\u001b[0m \u001b[32m━━━━━━━━━━━━━━━━━━━━\u001b[0m\u001b[37m\u001b[0m \u001b[1m0s\u001b[0m 68ms/step\n",
      "Resultado de la predicción: [[ 1.7333328 -1.933333 ]]\n"
     ]
    }
   ],
   "source": [
    "print(\"Hagamos una predicción\")\n",
    "resultado = modelo.predict(np.array([[1, 3, 2]], dtype=float))\n",
    "print(\"Resultado de la predicción:\", resultado)"
   ]
  }
 ],
 "metadata": {
  "kernelspec": {
   "display_name": "Python 3",
   "language": "python",
   "name": "python3"
  },
  "language_info": {
   "codemirror_mode": {
    "name": "ipython",
    "version": 3
   },
   "file_extension": ".py",
   "mimetype": "text/x-python",
   "name": "python",
   "nbconvert_exporter": "python",
   "pygments_lexer": "ipython3",
   "version": "3.12.3"
  }
 },
 "nbformat": 4,
 "nbformat_minor": 2
}
